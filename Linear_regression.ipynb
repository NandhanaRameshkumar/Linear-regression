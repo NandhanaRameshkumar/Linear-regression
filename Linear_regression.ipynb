{
  "cells": [
    {
      "cell_type": "markdown",
      "metadata": {
        "id": "view-in-github",
        "colab_type": "text"
      },
      "source": [
        "<a href=\"https://colab.research.google.com/github/NandhanaRameshkumar/Linear-regression/blob/main/Linear_regression.ipynb\" target=\"_parent\"><img src=\"https://colab.research.google.com/assets/colab-badge.svg\" alt=\"Open In Colab\"/></a>"
      ]
    },
    {
      "cell_type": "code",
      "execution_count": null,
      "id": "9c4a3e9c",
      "metadata": {
        "scrolled": true,
        "id": "9c4a3e9c"
      },
      "outputs": [],
      "source": [
        "import pandas as pd\n",
        "import numpy as np\n",
        "import matplotlib.pyplot as plt"
      ]
    },
    {
      "cell_type": "code",
      "execution_count": null,
      "id": "5059a90d",
      "metadata": {
        "id": "5059a90d",
        "outputId": "68ccf395-73f3-4cc4-98e3-bd0abde25796"
      },
      "outputs": [
        {
          "name": "stdout",
          "output_type": "stream",
          "text": [
            "            db                           full_path  age  gender\n",
            "0      UTKface  part1/41_0_2_20170105164126307.jpg   41       1\n",
            "1      UTKface  part1/80_1_0_20170110122217473.jpg   80       0\n",
            "2      UTKface  part1/56_0_0_20170111202842202.jpg   56       1\n",
            "3      UTKface  part1/82_1_0_20170110141329969.jpg   82       0\n",
            "4      UTKface  part1/16_1_4_20170102234841875.jpg   16       0\n",
            "...        ...                                 ...  ...     ...\n",
            "24099  UTKface  part3/31_1_3_20170119200101732.jpg   31       0\n",
            "24100  UTKface  part3/24_1_1_20170116225255798.jpg   24       0\n",
            "24101  UTKface  part3/39_0_3_20170119203757237.jpg   39       1\n",
            "24102  UTKface  part3/44_1_3_20170119192758593.jpg   44       0\n",
            "24103  UTKface  part3/78_1_0_20170120224727472.jpg   78       0\n",
            "\n",
            "[24104 rows x 4 columns]\n"
          ]
        }
      ],
      "source": [
        "data=pd.read_csv('D:\\\\Jeyashri\\\\IBM\\\\Datasets\\\\age.csv')\n",
        "print(data)"
      ]
    },
    {
      "cell_type": "code",
      "execution_count": null,
      "id": "7c97bbf9",
      "metadata": {
        "id": "7c97bbf9",
        "outputId": "847de9b6-1ee0-4a79-ffca-92bfc544a0e0"
      },
      "outputs": [
        {
          "data": {
            "text/html": [
              "<div>\n",
              "<style scoped>\n",
              "    .dataframe tbody tr th:only-of-type {\n",
              "        vertical-align: middle;\n",
              "    }\n",
              "\n",
              "    .dataframe tbody tr th {\n",
              "        vertical-align: top;\n",
              "    }\n",
              "\n",
              "    .dataframe thead th {\n",
              "        text-align: right;\n",
              "    }\n",
              "</style>\n",
              "<table border=\"1\" class=\"dataframe\">\n",
              "  <thead>\n",
              "    <tr style=\"text-align: right;\">\n",
              "      <th></th>\n",
              "      <th>db</th>\n",
              "      <th>full_path</th>\n",
              "      <th>age</th>\n",
              "      <th>gender</th>\n",
              "    </tr>\n",
              "  </thead>\n",
              "  <tbody>\n",
              "    <tr>\n",
              "      <th>0</th>\n",
              "      <td>UTKface</td>\n",
              "      <td>part1/41_0_2_20170105164126307.jpg</td>\n",
              "      <td>41</td>\n",
              "      <td>1</td>\n",
              "    </tr>\n",
              "    <tr>\n",
              "      <th>1</th>\n",
              "      <td>UTKface</td>\n",
              "      <td>part1/80_1_0_20170110122217473.jpg</td>\n",
              "      <td>80</td>\n",
              "      <td>0</td>\n",
              "    </tr>\n",
              "    <tr>\n",
              "      <th>2</th>\n",
              "      <td>UTKface</td>\n",
              "      <td>part1/56_0_0_20170111202842202.jpg</td>\n",
              "      <td>56</td>\n",
              "      <td>1</td>\n",
              "    </tr>\n",
              "    <tr>\n",
              "      <th>3</th>\n",
              "      <td>UTKface</td>\n",
              "      <td>part1/82_1_0_20170110141329969.jpg</td>\n",
              "      <td>82</td>\n",
              "      <td>0</td>\n",
              "    </tr>\n",
              "    <tr>\n",
              "      <th>4</th>\n",
              "      <td>UTKface</td>\n",
              "      <td>part1/16_1_4_20170102234841875.jpg</td>\n",
              "      <td>16</td>\n",
              "      <td>0</td>\n",
              "    </tr>\n",
              "  </tbody>\n",
              "</table>\n",
              "</div>"
            ],
            "text/plain": [
              "        db                           full_path  age  gender\n",
              "0  UTKface  part1/41_0_2_20170105164126307.jpg   41       1\n",
              "1  UTKface  part1/80_1_0_20170110122217473.jpg   80       0\n",
              "2  UTKface  part1/56_0_0_20170111202842202.jpg   56       1\n",
              "3  UTKface  part1/82_1_0_20170110141329969.jpg   82       0\n",
              "4  UTKface  part1/16_1_4_20170102234841875.jpg   16       0"
            ]
          },
          "execution_count": 9,
          "metadata": {},
          "output_type": "execute_result"
        }
      ],
      "source": [
        "data.head()"
      ]
    },
    {
      "cell_type": "code",
      "execution_count": null,
      "id": "16deb7f9",
      "metadata": {
        "id": "16deb7f9",
        "outputId": "7179124f-d523-4b44-8e9a-d5bb5fa97938"
      },
      "outputs": [
        {
          "data": {
            "image/png": "[encoded data removed]",
            "text/plain": [
              "<Figure size 432x288 with 1 Axes>"
            ]
          },
          "metadata": {
            "needs_background": "light"
          },
          "output_type": "display_data"
        }
      ],
      "source": [
        "data.plot.scatter(x='age', y='gender');"
      ]
    },
    {
      "cell_type": "code",
      "execution_count": null,
      "id": "eba049a9",
      "metadata": {
        "id": "eba049a9",
        "outputId": "678fea26-633c-4956-893b-940fa5024ab2"
      },
      "outputs": [
        {
          "data": {
            "text/plain": [
              "(7, 4)"
            ]
          },
          "execution_count": 5,
          "metadata": {},
          "output_type": "execute_result"
        }
      ],
      "source": [
        "data.shape"
      ]
    },
    {
      "cell_type": "markdown",
      "id": "4fd41d26",
      "metadata": {
        "id": "4fd41d26"
      },
      "source": [
        "# Data Preprocessing dividing dependent and independent values"
      ]
    },
    {
      "cell_type": "code",
      "execution_count": null,
      "id": "b508fc71",
      "metadata": {
        "id": "b508fc71"
      },
      "outputs": [],
      "source": [
        "x=data['age'].values.reshape(-1,1)\n",
        "y=data['gender'].values.reshape(-1,1)#depending"
      ]
    },
    {
      "cell_type": "code",
      "execution_count": null,
      "id": "be67843d",
      "metadata": {
        "id": "be67843d",
        "outputId": "3cc7523c-52b5-4dfa-abf6-053d493ca793"
      },
      "outputs": [
        {
          "data": {
            "text/plain": [
              "(24104, 1)"
            ]
          },
          "execution_count": 12,
          "metadata": {},
          "output_type": "execute_result"
        }
      ],
      "source": [
        "x.shape"
      ]
    },
    {
      "cell_type": "code",
      "execution_count": null,
      "id": "9b90ff4a",
      "metadata": {
        "id": "9b90ff4a"
      },
      "outputs": [],
      "source": [
        "SEED = 30"
      ]
    },
    {
      "cell_type": "code",
      "execution_count": null,
      "id": "6bc22e00",
      "metadata": {
        "id": "6bc22e00"
      },
      "outputs": [],
      "source": [
        "from sklearn.model_selection import train_test_split\n",
        "x_train, x_test, y_train, y_test = train_test_split(x, y, test_size = 0.2, random_state = 30)"
      ]
    },
    {
      "cell_type": "code",
      "execution_count": null,
      "id": "e515405a",
      "metadata": {
        "id": "e515405a",
        "outputId": "d82db757-50ad-47a2-c02b-441690f77e8e"
      },
      "outputs": [
        {
          "name": "stdout",
          "output_type": "stream",
          "text": [
            "[[23]\n",
            " [ 1]\n",
            " [24]\n",
            " ...\n",
            " [54]\n",
            " [29]\n",
            " [52]]\n",
            "[[0]\n",
            " [0]\n",
            " [0]\n",
            " ...\n",
            " [1]\n",
            " [0]\n",
            " [1]]\n"
          ]
        }
      ],
      "source": [
        "print(x_train)\n",
        "print(y_train)"
      ]
    },
    {
      "cell_type": "code",
      "execution_count": null,
      "id": "34119934",
      "metadata": {
        "id": "34119934"
      },
      "outputs": [],
      "source": [
        "from sklearn.linear_model import LinearRegression\n",
        "regressor = LinearRegression()"
      ]
    },
    {
      "cell_type": "code",
      "execution_count": null,
      "id": "22911b97",
      "metadata": {
        "id": "22911b97",
        "outputId": "a9d34f25-cd84-4473-a8f9-10778c96dcff"
      },
      "outputs": [
        {
          "data": {
            "text/plain": [
              "LinearRegression()"
            ]
          },
          "execution_count": 16,
          "metadata": {},
          "output_type": "execute_result"
        }
      ],
      "source": [
        "regressor.fit(x_train, y_train)"
      ]
    },
    {
      "cell_type": "code",
      "execution_count": null,
      "id": "e0cb27ed",
      "metadata": {
        "id": "e0cb27ed"
      },
      "outputs": [],
      "source": [
        "y_pred = regressor.predict(x_test)"
      ]
    },
    {
      "cell_type": "code",
      "execution_count": null,
      "id": "079abf66",
      "metadata": {
        "id": "079abf66",
        "outputId": "3c147ec0-4aaf-4f9a-a03a-e9f3813e66d4"
      },
      "outputs": [
        {
          "name": "stdout",
          "output_type": "stream",
          "text": [
            "      Actual  Predicted\n",
            "0          1   0.496964\n",
            "1          0   0.493954\n",
            "2          1   0.512011\n",
            "3          0   0.496964\n",
            "4          1   0.617343\n",
            "...      ...        ...\n",
            "4816       0   0.505992\n",
            "4817       0   0.475897\n",
            "4818       1   0.496964\n",
            "4819       1   0.509002\n",
            "4820       1   0.484926\n",
            "\n",
            "[4821 rows x 2 columns]\n"
          ]
        }
      ],
      "source": [
        "df_preds = pd.DataFrame({'Actual': y_test.squeeze(), 'Predicted': y_pred.squeeze()})\n",
        "print(df_preds)"
      ]
    },
    {
      "cell_type": "code",
      "execution_count": null,
      "id": "d6df4ee5",
      "metadata": {
        "id": "d6df4ee5"
      },
      "outputs": [],
      "source": [
        "from sklearn.metrics import mean_absolute_error, mean_squared_error\n",
        "mae = mean_absolute_error(y_test, y_pred)\n",
        "mse = mean_squared_error(y_test, y_pred)\n",
        "rmse = np.sqrt(mse)"
      ]
    },
    {
      "cell_type": "code",
      "execution_count": null,
      "id": "5d631858",
      "metadata": {
        "id": "5d631858",
        "outputId": "9eab3900-e6e1-4dca-f386-f098c51691cc"
      },
      "outputs": [
        {
          "name": "stdout",
          "output_type": "stream",
          "text": [
            "Mean absolute error: 7.59\n",
            "Mean squared error: 82.12\n",
            "Root mean squared error: 9.06\n"
          ]
        }
      ],
      "source": [
        "print(f'Mean absolute error: {mae:.2f}')\n",
        "print(f'Mean squared error: {mse:.2f}')\n",
        "print(f'Root mean squared error: {rmse:.2f}')"
      ]
    },
    {
      "cell_type": "code",
      "execution_count": null,
      "id": "8512e8df",
      "metadata": {
        "id": "8512e8df",
        "outputId": "35b423b1-5f21-490d-d4ef-1d0612d7c78f"
      },
      "outputs": [
        {
          "data": {
            "image/png": "[encoded data removed]",
            "text/plain": [
              "<Figure size 864x432 with 1 Axes>"
            ]
          },
          "metadata": {
            "needs_background": "light"
          },
          "output_type": "display_data"
        }
      ],
      "source": [
        "plt.figure(figsize=(12, 6))\n",
        "plt.plot(x,y,'ro')     # regression line\n",
        "plt.plot(x_test,y_pred)   # scatter plot showing actual data\n",
        "plt.title('Actual vs Predicted')\n",
        "plt.xlabel('X')\n",
        "plt.ylabel('y')\n",
        "plt.show()"
      ]
    }
  ],
  "metadata": {
    "kernelspec": {
      "display_name": "Python 3 (ipykernel)",
      "language": "python",
      "name": "python3"
    },
    "language_info": {
      "codemirror_mode": {
        "name": "ipython",
        "version": 3
      },
      "file_extension": ".py",
      "mimetype": "text/x-python",
      "name": "python",
      "nbconvert_exporter": "python",
      "pygments_lexer": "ipython3",
      "version": "3.9.12"
    },
    "colab": {
      "provenance": [],
      "include_colab_link": true
    }
  },
  "nbformat": 4,
  "nbformat_minor": 5
}